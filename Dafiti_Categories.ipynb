{
 "cells": [
  {
   "cell_type": "code",
   "execution_count": 1,
   "metadata": {},
   "outputs": [],
   "source": [
    "import pandas as pd\n",
    "import numpy as np\n",
    "import unidecode\n",
    "import itertools\n",
    "\n",
    "from collections import Counter\n",
    "from operator import itemgetter\n",
    "from sklearn.feature_extraction.text import TfidfVectorizer\n",
    "from sklearn.tree import DecisionTreeClassifier\n",
    "from scipy.sparse import hstack\n",
    "from sklearn.model_selection import train_test_split\n",
    "from sklearn.metrics import confusion_matrix\n",
    "from sklearn.linear_model import LogisticRegression\n",
    "from joblib import dump, load\n",
    "from sklearn.preprocessing import MultiLabelBinarizer\n",
    "from os import listdir"
   ]
  },
  {
   "cell_type": "markdown",
   "metadata": {},
   "source": [
    "# Cleaning the Data\n",
    "** I have found a problem with three lines in the file that I have solved manually"
   ]
  },
  {
   "cell_type": "code",
   "execution_count": 3,
   "metadata": {},
   "outputs": [
    {
     "data": {
      "text/html": [
       "<div>\n",
       "<style scoped>\n",
       "    .dataframe tbody tr th:only-of-type {\n",
       "        vertical-align: middle;\n",
       "    }\n",
       "\n",
       "    .dataframe tbody tr th {\n",
       "        vertical-align: top;\n",
       "    }\n",
       "\n",
       "    .dataframe thead th {\n",
       "        text-align: right;\n",
       "    }\n",
       "</style>\n",
       "<table border=\"1\" class=\"dataframe\">\n",
       "  <thead>\n",
       "    <tr style=\"text-align: right;\">\n",
       "      <th></th>\n",
       "      <th>price</th>\n",
       "      <th>name</th>\n",
       "      <th>brand</th>\n",
       "      <th>type</th>\n",
       "      <th>categories</th>\n",
       "      <th>product_image_url</th>\n",
       "    </tr>\n",
       "    <tr>\n",
       "      <th>sku</th>\n",
       "      <th></th>\n",
       "      <th></th>\n",
       "      <th></th>\n",
       "      <th></th>\n",
       "      <th></th>\n",
       "      <th></th>\n",
       "    </tr>\n",
       "  </thead>\n",
       "  <tbody>\n",
       "    <tr>\n",
       "      <th>I1700-67500-2750</th>\n",
       "      <td>64.83</td>\n",
       "      <td>Bota Timberland Trail Dust Marrom</td>\n",
       "      <td>Timberland</td>\n",
       "      <td>sportsshoes</td>\n",
       "      <td>Botas,Botas Outdoor,Calçados,Calçados Feminino...</td>\n",
       "      <td>http://static.dafiti.com.br/424/1-zoom.jpg</td>\n",
       "    </tr>\n",
       "    <tr>\n",
       "      <th>Y3750-48500-2750</th>\n",
       "      <td>50.42</td>\n",
       "      <td>Tênis Timberland Gorge C2 Verde</td>\n",
       "      <td>Timberland</td>\n",
       "      <td>sportsshoes</td>\n",
       "      <td>Aventura,Black Friday 2014,Calçados,Calçados F...</td>\n",
       "      <td>http://static.dafiti.com.br/524/1-zoom.jpg</td>\n",
       "    </tr>\n",
       "    <tr>\n",
       "      <th>I7600-48500-2750</th>\n",
       "      <td>27.90</td>\n",
       "      <td>Tênis Timberland Gorge C2 Cinza</td>\n",
       "      <td>Timberland</td>\n",
       "      <td>sportsshoes</td>\n",
       "      <td>48 Horas Tenis,Aventura,Calçados,Calçados Femi...</td>\n",
       "      <td>http://static.dafiti.com.br/624/1-zoom.jpg</td>\n",
       "    </tr>\n",
       "    <tr>\n",
       "      <th>B7020-31600-3060</th>\n",
       "      <td>21.78</td>\n",
       "      <td>Tênis ME8 Mid Preto e Vermelho</td>\n",
       "      <td>And 1</td>\n",
       "      <td>sportsshoes</td>\n",
       "      <td>Calçados,Calçados Masculinos,Esportes,Tênis</td>\n",
       "      <td>http://static.dafiti.com.br/544/1-zoom.jpg</td>\n",
       "    </tr>\n",
       "    <tr>\n",
       "      <th>Y3120-21600-3060</th>\n",
       "      <td>72.34</td>\n",
       "      <td>Tênis Pearl Mid Branco e Azul</td>\n",
       "      <td>And 1</td>\n",
       "      <td>sportsshoes</td>\n",
       "      <td>Calçados,Calçados Masculinos,Esportes,Tênis</td>\n",
       "      <td>http://static.dafiti.com.br/644/1-zoom.jpg</td>\n",
       "    </tr>\n",
       "  </tbody>\n",
       "</table>\n",
       "</div>"
      ],
      "text/plain": [
       "                  price                               name       brand  \\\n",
       "sku                                                                      \n",
       "I1700-67500-2750  64.83  Bota Timberland Trail Dust Marrom  Timberland   \n",
       "Y3750-48500-2750  50.42    Tênis Timberland Gorge C2 Verde  Timberland   \n",
       "I7600-48500-2750  27.90    Tênis Timberland Gorge C2 Cinza  Timberland   \n",
       "B7020-31600-3060  21.78     Tênis ME8 Mid Preto e Vermelho       And 1   \n",
       "Y3120-21600-3060  72.34      Tênis Pearl Mid Branco e Azul       And 1   \n",
       "\n",
       "                         type  \\\n",
       "sku                             \n",
       "I1700-67500-2750  sportsshoes   \n",
       "Y3750-48500-2750  sportsshoes   \n",
       "I7600-48500-2750  sportsshoes   \n",
       "B7020-31600-3060  sportsshoes   \n",
       "Y3120-21600-3060  sportsshoes   \n",
       "\n",
       "                                                         categories  \\\n",
       "sku                                                                   \n",
       "I1700-67500-2750  Botas,Botas Outdoor,Calçados,Calçados Feminino...   \n",
       "Y3750-48500-2750  Aventura,Black Friday 2014,Calçados,Calçados F...   \n",
       "I7600-48500-2750  48 Horas Tenis,Aventura,Calçados,Calçados Femi...   \n",
       "B7020-31600-3060        Calçados,Calçados Masculinos,Esportes,Tênis   \n",
       "Y3120-21600-3060        Calçados,Calçados Masculinos,Esportes,Tênis   \n",
       "\n",
       "                                           product_image_url  \n",
       "sku                                                           \n",
       "I1700-67500-2750  http://static.dafiti.com.br/424/1-zoom.jpg  \n",
       "Y3750-48500-2750  http://static.dafiti.com.br/524/1-zoom.jpg  \n",
       "I7600-48500-2750  http://static.dafiti.com.br/624/1-zoom.jpg  \n",
       "B7020-31600-3060  http://static.dafiti.com.br/544/1-zoom.jpg  \n",
       "Y3120-21600-3060  http://static.dafiti.com.br/644/1-zoom.jpg  "
      ]
     },
     "execution_count": 3,
     "metadata": {},
     "output_type": "execute_result"
    }
   ],
   "source": [
    "dtype = {'price': float}\n",
    "\n",
    "data = pd.read_csv('catalog-data-corrected.zip', sep=';', dtype=dtype).set_index('sku')\n",
    "data.head()"
   ]
  },
  {
   "cell_type": "markdown",
   "metadata": {},
   "source": [
    "### Functions for cleaning the category names\n",
    "I have decided to take out the accents from the category names, so I have a higher match rate, as well as take out the _R$_ symbol, use the integer part of the price and lowercase."
   ]
  },
  {
   "cell_type": "code",
   "execution_count": 3,
   "metadata": {},
   "outputs": [],
   "source": [
    "def clean_out(s):\n",
    "    \"\"\"removes the strings in take_out from the given string\"\"\"\n",
    "    take_out = {\n",
    "        ',90',\n",
    "        '.90',\n",
    "        'r$'\n",
    "    }\n",
    "    \n",
    "    for w in take_out:\n",
    "        s = s.replace(w, '')\n",
    "    return s\n",
    "\n",
    "\n",
    "def clean_cat_name(cat_name):\n",
    "    \"\"\"removes accents, lowercase it and trims the spaces from the given category name\"\"\"\n",
    "    return clean_out(unidecode.unidecode(cat_name).strip().lower())\n",
    "\n",
    "\n",
    "def get_cat_list(cat_string):\n",
    "    \"\"\"returns a list with the clean category names for a given categories string\"\"\"\n",
    "    return [clean_cat_name(cat_name) for cat_name in cat_string.split(',')]\n",
    "\n",
    "def flatten_2d_list(l):\n",
    "    return list(itertools.chain.from_iterable(l))\n"
   ]
  },
  {
   "cell_type": "code",
   "execution_count": 4,
   "metadata": {},
   "outputs": [
    {
     "data": {
      "text/html": [
       "<div>\n",
       "<style scoped>\n",
       "    .dataframe tbody tr th:only-of-type {\n",
       "        vertical-align: middle;\n",
       "    }\n",
       "\n",
       "    .dataframe tbody tr th {\n",
       "        vertical-align: top;\n",
       "    }\n",
       "\n",
       "    .dataframe thead th {\n",
       "        text-align: right;\n",
       "    }\n",
       "</style>\n",
       "<table border=\"1\" class=\"dataframe\">\n",
       "  <thead>\n",
       "    <tr style=\"text-align: right;\">\n",
       "      <th></th>\n",
       "      <th>name</th>\n",
       "      <th>cat_id</th>\n",
       "    </tr>\n",
       "  </thead>\n",
       "  <tbody>\n",
       "    <tr>\n",
       "      <th>0</th>\n",
       "      <td>mega liquida tenis e sapatenis app</td>\n",
       "      <td>0</td>\n",
       "    </tr>\n",
       "    <tr>\n",
       "      <th>1</th>\n",
       "      <td>2 bermudas por 129</td>\n",
       "      <td>1</td>\n",
       "    </tr>\n",
       "    <tr>\n",
       "      <th>2</th>\n",
       "      <td>2 bermudas por 149</td>\n",
       "      <td>2</td>\n",
       "    </tr>\n",
       "    <tr>\n",
       "      <th>3</th>\n",
       "      <td>2 bermudas por 169</td>\n",
       "      <td>3</td>\n",
       "    </tr>\n",
       "    <tr>\n",
       "      <th>4</th>\n",
       "      <td>2 bermudas por 169</td>\n",
       "      <td>4</td>\n",
       "    </tr>\n",
       "  </tbody>\n",
       "</table>\n",
       "</div>"
      ],
      "text/plain": [
       "                                 name  cat_id\n",
       "0  mega liquida tenis e sapatenis app       0\n",
       "1                  2 bermudas por 129       1\n",
       "2                  2 bermudas por 149       2\n",
       "3                  2 bermudas por 169       3\n",
       "4                  2 bermudas por 169       4"
      ]
     },
     "execution_count": 4,
     "metadata": {},
     "output_type": "execute_result"
    }
   ],
   "source": [
    "categories = (pd.read_table('categories.txt', encoding='utf8')\n",
    "                .reset_index()\n",
    "                .rename(columns={'index': 'cat_id'})\n",
    "                .reindex(columns=['name', 'cat_id'])\n",
    "                .assign(name=lambda df: df.name.apply(clean_cat_name)))\n",
    "\n",
    "categories.head()"
   ]
  },
  {
   "cell_type": "markdown",
   "metadata": {},
   "source": [
    "### Category name match rate\n",
    "\n",
    "Now, I want to find out which categories are in the dataset but not in the categories.txt file, so we might consider adding them based on the number of times they appear."
   ]
  },
  {
   "cell_type": "code",
   "execution_count": 5,
   "metadata": {},
   "outputs": [],
   "source": [
    "# get a two dimension list with all the category names found\n",
    "all_categories_found = data.categories.apply(get_cat_list).values.tolist()\n",
    "\n",
    "# flatten it to a one dimension list with all the occurrences of the names\n",
    "flat_all_categories_found = flatten_2d_list(all_categories_found)\n",
    "\n",
    "# create a set so we have the unique occurrences\n",
    "set_all_categories_found = set(flat_all_categories_found)\n",
    "\n",
    "# see what categories where not found\n",
    "categories_not_found = set_all_categories_found - set(categories.name.values)\n",
    "\n",
    "# count how many occurrences we have for each category\n",
    "occurrences_by_cat = Counter(flat_all_categories_found)\n",
    "\n",
    "# filter out the categories not found in categories.txt\n",
    "not_found_occurrences = {k: v for k, v in occurrences_by_cat.items() if k in categories_not_found}\n",
    "\n",
    "top_cat_names = [cat[0] for cat in sorted(occurrences_by_cat.items(), key=itemgetter(1), reverse=True)]"
   ]
  },
  {
   "cell_type": "code",
   "execution_count": 6,
   "metadata": {},
   "outputs": [
    {
     "data": {
      "text/plain": [
       "1673"
      ]
     },
     "execution_count": 6,
     "metadata": {},
     "output_type": "execute_result"
    }
   ],
   "source": [
    "# n of categories in categories.txt\n",
    "n_categories = len(categories)\n",
    "n_categories"
   ]
  },
  {
   "cell_type": "code",
   "execution_count": 7,
   "metadata": {},
   "outputs": [
    {
     "data": {
      "text/plain": [
       "1719"
      ]
     },
     "execution_count": 7,
     "metadata": {},
     "output_type": "execute_result"
    }
   ],
   "source": [
    "#n of categories found\n",
    "n_cat_found = len(set_all_categories_found)\n",
    "n_cat_found"
   ]
  },
  {
   "cell_type": "code",
   "execution_count": 8,
   "metadata": {},
   "outputs": [
    {
     "data": {
      "text/plain": [
       "98"
      ]
     },
     "execution_count": 8,
     "metadata": {},
     "output_type": "execute_result"
    }
   ],
   "source": [
    "# n of cataegories not in the categories.txt file\n",
    "n_cat_not_found = len(categories_not_found)\n",
    "n_cat_not_found"
   ]
  },
  {
   "cell_type": "code",
   "execution_count": 9,
   "metadata": {},
   "outputs": [
    {
     "data": {
      "text/plain": [
       "0.05700988947062245"
      ]
     },
     "execution_count": 9,
     "metadata": {},
     "output_type": "execute_result"
    }
   ],
   "source": [
    "n_cat_not_found / n_cat_found"
   ]
  },
  {
   "cell_type": "code",
   "execution_count": 10,
   "metadata": {},
   "outputs": [
    {
     "data": {
      "text/plain": [
       "2708322"
      ]
     },
     "execution_count": 10,
     "metadata": {},
     "output_type": "execute_result"
    }
   ],
   "source": [
    "n_occurrences = sum(v for v in occurrences_by_cat.values())\n",
    "n_occurrences"
   ]
  },
  {
   "cell_type": "code",
   "execution_count": 11,
   "metadata": {},
   "outputs": [
    {
     "data": {
      "text/plain": [
       "30475"
      ]
     },
     "execution_count": 11,
     "metadata": {},
     "output_type": "execute_result"
    }
   ],
   "source": [
    "n_occurrences_not_found = sum(v for v in not_found_occurrences.values())\n",
    "n_occurrences_not_found"
   ]
  },
  {
   "cell_type": "code",
   "execution_count": 12,
   "metadata": {},
   "outputs": [
    {
     "data": {
      "text/plain": [
       "0.011252354779084614"
      ]
     },
     "execution_count": 12,
     "metadata": {},
     "output_type": "execute_result"
    }
   ],
   "source": [
    "n_occurrences_not_found / n_occurrences"
   ]
  },
  {
   "cell_type": "code",
   "execution_count": 13,
   "metadata": {},
   "outputs": [
    {
     "data": {
      "text/plain": [
       "52"
      ]
     },
     "execution_count": 13,
     "metadata": {},
     "output_type": "execute_result"
    }
   ],
   "source": [
    "n_categories - (n_cat_found - n_cat_not_found)"
   ]
  },
  {
   "cell_type": "markdown",
   "metadata": {},
   "source": [
    "We can see that the number of categories in the `categories.txt` file are `1.673`, while we have found `1.719`different ones in the dataset, `98` out of these `1.719` are not in the `categories.txt` file, which represents `5.7%` of the categories, but only `1.1%` of the occurrences. This means that `52` categories from the `categories.txt` file are not being used."
   ]
  },
  {
   "cell_type": "code",
   "execution_count": 14,
   "metadata": {},
   "outputs": [
    {
     "data": {
      "text/plain": [
       "[('roupas', 203108),\n",
       " ('esportes', 189423),\n",
       " ('homens', 142097),\n",
       " ('roupas masculinas', 125311),\n",
       " ('casual', 123671),\n",
       " ('esportes masculinos', 111039),\n",
       " ('camisetas', 91889),\n",
       " ('mulheres', 75269),\n",
       " ('roupas femininas', 70873),\n",
       " ('surf', 63084),\n",
       " ('calcados', 56311),\n",
       " ('manga curta', 55716),\n",
       " ('camiseta manga curta', 46601),\n",
       " ('camisetas manga curta', 44176),\n",
       " ('tenis', 41884),\n",
       " ('skate', 37452),\n",
       " ('calcados masculinos', 36929),\n",
       " ('acessorios', 36585),\n",
       " ('esportes femininos', 35163),\n",
       " ('acessorios masculinos', 28810)]"
      ]
     },
     "execution_count": 14,
     "metadata": {},
     "output_type": "execute_result"
    }
   ],
   "source": [
    "# top 20 categories not found\n",
    "sorted(occurrences_by_cat.items(), key=itemgetter(1), reverse=True)[:20]"
   ]
  },
  {
   "cell_type": "code",
   "execution_count": 15,
   "metadata": {},
   "outputs": [
    {
     "data": {
      "text/plain": [
       "['roupas',\n",
       " 'esportes',\n",
       " 'homens',\n",
       " 'roupas masculinas',\n",
       " 'casual',\n",
       " 'esportes masculinos',\n",
       " 'camisetas',\n",
       " 'mulheres',\n",
       " 'roupas femininas',\n",
       " 'surf',\n",
       " 'calcados',\n",
       " 'manga curta',\n",
       " 'camiseta manga curta',\n",
       " 'camisetas manga curta',\n",
       " 'tenis',\n",
       " 'skate',\n",
       " 'calcados masculinos',\n",
       " 'acessorios',\n",
       " 'esportes femininos',\n",
       " 'acessorios masculinos']"
      ]
     },
     "execution_count": 15,
     "metadata": {},
     "output_type": "execute_result"
    }
   ],
   "source": [
    "top_cat_names[:20]"
   ]
  },
  {
   "cell_type": "code",
   "execution_count": 16,
   "metadata": {},
   "outputs": [
    {
     "data": {
      "text/plain": [
       "[('90', 17129),\n",
       " ('bone', 2383),\n",
       " ('chapeu e viseira', 2383),\n",
       " ('90 - masculino', 2377),\n",
       " ('90 - 2', 1831),\n",
       " ('90 feminino', 939),\n",
       " ('2 blusas por 99', 544),\n",
       " ('90 feminino 2', 514),\n",
       " ('90 camisetas', 408),\n",
       " ('00 feminino casual', 352)]"
      ]
     },
     "execution_count": 16,
     "metadata": {},
     "output_type": "execute_result"
    }
   ],
   "source": [
    "sorted(not_found_occurrences.items(), key=itemgetter(1), reverse=True)[:10]"
   ]
  },
  {
   "cell_type": "markdown",
   "metadata": {},
   "source": [
    "We might consider to add these categories to the `categories.txt` file, so we don't leave them out. For now, these categories will be removed from the dataset."
   ]
  },
  {
   "cell_type": "markdown",
   "metadata": {},
   "source": [
    "# Model to predict the category\n",
    "## One model for each category\n",
    "\n",
    "My plan is to create one binary classifier for each category (in this case, I will build just for the top 20 categories, but the rest follows the same pipeline).\n",
    "\n",
    "## Building the dataset\n",
    "### The labels\n",
    "I will create a function that will give me the `True` or `False` value for a given `category_name`. The output of this function will be used as the labels for the dataset"
   ]
  },
  {
   "cell_type": "code",
   "execution_count": 17,
   "metadata": {},
   "outputs": [],
   "source": [
    "def get_labels(cat_name):\n",
    "    return data.categories.apply(lambda x: cat_name in get_cat_list(x))"
   ]
  },
  {
   "cell_type": "markdown",
   "metadata": {},
   "source": [
    "### Features to predict\n",
    "#### product name\n",
    "For the product name, I'm using a TfIdf vectorizer to transform the string names into vectors.\n",
    "\n",
    "#### Brand and Type\n",
    "Since these variables are categorical, I will parse them into dummy variables.\n",
    "\n",
    "#### Price\n",
    "Since this is a continuous variable, I'm going to use it as it is\n",
    "\n",
    "### Final Dataset\n",
    "I'm going to combine the variables described above to merge everything into a dataset to train the classifier"
   ]
  },
  {
   "cell_type": "code",
   "execution_count": 18,
   "metadata": {},
   "outputs": [],
   "source": [
    "# Parsing the product name\n",
    "\n",
    "prod_name_vectorizer = TfidfVectorizer()\n",
    "\n",
    "corpus = data['name'].values\n",
    "\n",
    "prod_names = prod_name_vectorizer.fit_transform(corpus)\n",
    "\n",
    "brand_binarizer = MultiLabelBinarizer(sparse_output=True)\n",
    "prod_type_binarizer = MultiLabelBinarizer(sparse_output=True)\n",
    "\n",
    "brand_binarized = brand_binarizer.fit_transform(data['brand'].values.reshape(-1, 1))\n",
    "prod_type_binarized = prod_type_binarizer.fit_transform(data['type'].values.reshape(-1, 1))"
   ]
  },
  {
   "cell_type": "code",
   "execution_count": 19,
   "metadata": {},
   "outputs": [
    {
     "data": {
      "text/plain": [
       "['feature_extraction/prod_name_vectorizer.joblib']"
      ]
     },
     "execution_count": 19,
     "metadata": {},
     "output_type": "execute_result"
    }
   ],
   "source": [
    "dump(prod_name_vectorizer, 'feature_extraction/prod_name_vectorizer.joblib')"
   ]
  },
  {
   "cell_type": "code",
   "execution_count": 20,
   "metadata": {},
   "outputs": [
    {
     "data": {
      "text/plain": [
       "['feature_extraction/brand_binarizer.joblib']"
      ]
     },
     "execution_count": 20,
     "metadata": {},
     "output_type": "execute_result"
    }
   ],
   "source": [
    "dump(brand_binarizer, 'feature_extraction/brand_binarizer.joblib')"
   ]
  },
  {
   "cell_type": "code",
   "execution_count": 21,
   "metadata": {},
   "outputs": [
    {
     "data": {
      "text/plain": [
       "['feature_extraction/prod_type_binarizer.joblib']"
      ]
     },
     "execution_count": 21,
     "metadata": {},
     "output_type": "execute_result"
    }
   ],
   "source": [
    "dump(prod_type_binarizer, 'feature_extraction/prod_type_binarizer.joblib')"
   ]
  },
  {
   "cell_type": "code",
   "execution_count": 24,
   "metadata": {},
   "outputs": [],
   "source": [
    "# Merging all the variables\n",
    "\n",
    "features = [\n",
    "    prod_names,\n",
    "    brand_binarized,\n",
    "    prod_type_binarized,\n",
    "    data[['price']].values\n",
    "]\n",
    "\n",
    "X = hstack(features)"
   ]
  },
  {
   "cell_type": "markdown",
   "metadata": {},
   "source": [
    "## Training the model\n",
    "I have built a small pipeline to train and save a model based on a category name.\n",
    "The pipeline was built with the possibility of adding more complex classifiers in mind.\n",
    "For now, for sake of training time, I will use `Logistic Regression`, but more complex algorithms like `xgboost` are easy to add."
   ]
  },
  {
   "cell_type": "code",
   "execution_count": 25,
   "metadata": {},
   "outputs": [],
   "source": [
    "def print_confusion_matrix(cm):\n",
    "    print(\"           |    predicted    |\")\n",
    "    print(\"     real  |  False |   True |\")\n",
    "    print(\"           |========|========|\")\n",
    "    print(f\"     False | {cm[0][0]:6} | {cm[0][1]:6} |\")\n",
    "    print(f\"     True  | {cm[1][0]:6} | {cm[1][1]:6} |\")\n",
    "\n",
    "    \n",
    "def print_evaluation(clf, x_train, y_train, x_test, y_test):\n",
    "    train_score = clf.score(x_train, y_train)\n",
    "    test_score = clf.score(x_test, y_test)\n",
    "    train_cm = confusion_matrix(y_train, clf.predict(x_train), labels=[False, True])\n",
    "    test_cm = confusion_matrix(y_test, clf.predict(x_test), labels=[False, True])\n",
    "\n",
    "    \n",
    "    print(f\"train accuracy: {train_score * 100: .2f}%\")\n",
    "    print(\"train confusion matrix\")\n",
    "    print_confusion_matrix(train_cm)\n",
    "    print()\n",
    "    print(f\"test score: {test_score * 100: .2f}%\")\n",
    "    print(\"test confusion_matrix\")\n",
    "    print_confusion_matrix(test_cm)\n",
    "\n",
    "\n",
    "def train_model(cat_name, classifier=DecisionTreeClassifier, classifier_params={}):\n",
    "    print(\"========\")\n",
    "    print(f\"creating model for {cat_name}\")\n",
    "    print(\"building labels...\")\n",
    "    y = get_labels(cat_name)\n",
    "    \n",
    "    print(\"building dataset...\")\n",
    "    x_train, x_test, y_train, y_test = train_test_split(X, y, test_size=0.3, random_state=1234)\n",
    "    \n",
    "    print(\"training classifier...\")\n",
    "    print()\n",
    "    \n",
    "    clf = classifier(**classifier_params)\n",
    "    clf.fit(x_train, y_train)\n",
    "    \n",
    "    print_evaluation(clf, x_train, y_train, x_test, y_test)\n",
    "    \n",
    "    print()\n",
    "    print(\"saving model\")\n",
    "    print(\"======\")\n",
    "    print()\n",
    "    dump(clf, f'models/{cat_name}.joblib')\n",
    "          \n",
    "    return clf"
   ]
  },
  {
   "cell_type": "code",
   "execution_count": 26,
   "metadata": {},
   "outputs": [
    {
     "name": "stdout",
     "output_type": "stream",
     "text": [
      "========\n",
      "creating model for tenis\n",
      "building labels...\n",
      "building dataset...\n",
      "training classifier...\n",
      "\n",
      "train accuracy:  99.39%\n",
      "train confusion matrix\n",
      "           |    predicted    |\n",
      "     real  |  False |   True |\n",
      "           |========|========|\n",
      "     False | 181033 |    875 |\n",
      "     True  |    423 |  28821 |\n",
      "\n",
      "test score:  99.27%\n",
      "test confusion_matrix\n",
      "           |    predicted    |\n",
      "     real  |  False |   True |\n",
      "           |========|========|\n",
      "     False |  77413 |    442 |\n",
      "     True  |    215 |  12425 |\n",
      "\n",
      "saving model\n",
      "======\n",
      "\n"
     ]
    }
   ],
   "source": [
    "lr_params = {'solver': 'liblinear'}\n",
    "\n",
    "clf = train_model('tenis', classifier=LogisticRegression, classifier_params=lr_params)"
   ]
  },
  {
   "cell_type": "markdown",
   "metadata": {},
   "source": [
    "## Training a model for the top n categories"
   ]
  },
  {
   "cell_type": "code",
   "execution_count": 27,
   "metadata": {
    "scrolled": true
   },
   "outputs": [
    {
     "name": "stdout",
     "output_type": "stream",
     "text": [
      "========\n",
      "creating model for roupas\n",
      "building labels...\n",
      "building dataset...\n",
      "training classifier...\n",
      "\n"
     ]
    },
    {
     "name": "stderr",
     "output_type": "stream",
     "text": [
      "C:\\Users\\j.gajardo\\AppData\\Local\\Continuum\\miniconda3\\envs\\ml-bootcamp\\lib\\site-packages\\sklearn\\linear_model\\logistic.py:433: FutureWarning: Default solver will be changed to 'lbfgs' in 0.22. Specify a solver to silence this warning.\n",
      "  FutureWarning)\n"
     ]
    },
    {
     "name": "stdout",
     "output_type": "stream",
     "text": [
      "train accuracy:  98.28%\n",
      "train confusion matrix\n",
      "           |    predicted    |\n",
      "     real  |  False |   True |\n",
      "           |========|========|\n",
      "     False |  67712 |   1160 |\n",
      "     True  |   2464 | 139816 |\n",
      "\n",
      "test score:  98.28%\n",
      "test confusion_matrix\n",
      "           |    predicted    |\n",
      "     real  |  False |   True |\n",
      "           |========|========|\n",
      "     False |  29171 |    496 |\n",
      "     True  |   1059 |  59769 |\n",
      "\n",
      "saving model\n",
      "======\n",
      "\n",
      "========\n",
      "creating model for esportes\n",
      "building labels...\n",
      "building dataset...\n",
      "training classifier...\n",
      "\n",
      "train accuracy:  91.64%\n",
      "train confusion matrix\n",
      "           |    predicted    |\n",
      "     real  |  False |   True |\n",
      "           |========|========|\n",
      "     False |  66125 |  12384 |\n",
      "     True  |   5266 | 127377 |\n",
      "\n",
      "test score:  90.79%\n",
      "test confusion_matrix\n",
      "           |    predicted    |\n",
      "     real  |  False |   True |\n",
      "           |========|========|\n",
      "     False |  27954 |   5761 |\n",
      "     True  |   2570 |  54210 |\n",
      "\n",
      "saving model\n",
      "======\n",
      "\n",
      "========\n",
      "creating model for homens\n",
      "building labels...\n",
      "building dataset...\n",
      "training classifier...\n",
      "\n",
      "train accuracy:  87.36%\n",
      "train confusion matrix\n",
      "           |    predicted    |\n",
      "     real  |  False |   True |\n",
      "           |========|========|\n",
      "     False |  95447 |  16172 |\n",
      "     True  |  10524 |  89009 |\n",
      "\n",
      "test score:  86.10%\n",
      "test confusion_matrix\n",
      "           |    predicted    |\n",
      "     real  |  False |   True |\n",
      "           |========|========|\n",
      "     False |  40305 |   7626 |\n",
      "     True  |   4954 |  37610 |\n",
      "\n",
      "saving model\n",
      "======\n",
      "\n",
      "========\n",
      "creating model for roupas masculinas\n",
      "building labels...\n",
      "building dataset...\n",
      "training classifier...\n",
      "\n",
      "train accuracy:  95.49%\n",
      "train confusion matrix\n",
      "           |    predicted    |\n",
      "     real  |  False |   True |\n",
      "           |========|========|\n",
      "     False | 116615 |   6732 |\n",
      "     True  |   2787 |  85018 |\n",
      "\n",
      "test score:  95.03%\n",
      "test confusion_matrix\n",
      "           |    predicted    |\n",
      "     real  |  False |   True |\n",
      "           |========|========|\n",
      "     False |  49842 |   3147 |\n",
      "     True  |   1347 |  36159 |\n",
      "\n",
      "saving model\n",
      "======\n",
      "\n",
      "========\n",
      "creating model for casual\n",
      "building labels...\n",
      "building dataset...\n",
      "training classifier...\n",
      "\n",
      "train accuracy:  86.04%\n",
      "train confusion matrix\n",
      "           |    predicted    |\n",
      "     real  |  False |   True |\n",
      "           |========|========|\n",
      "     False | 110359 |  14167 |\n",
      "     True  |  15303 |  71323 |\n",
      "\n",
      "test score:  85.35%\n",
      "test confusion_matrix\n",
      "           |    predicted    |\n",
      "     real  |  False |   True |\n",
      "           |========|========|\n",
      "     False |  47078 |   6372 |\n",
      "     True  |   6883 |  30162 |\n",
      "\n",
      "saving model\n",
      "======\n",
      "\n",
      "========\n",
      "creating model for esportes masculinos\n",
      "building labels...\n",
      "building dataset...\n",
      "training classifier...\n",
      "\n",
      "train accuracy:  86.86%\n",
      "train confusion matrix\n",
      "           |    predicted    |\n",
      "     real  |  False |   True |\n",
      "           |========|========|\n",
      "     False | 118928 |  14539 |\n",
      "     True  |  13211 |  64474 |\n",
      "\n",
      "test score:  85.21%\n",
      "test confusion_matrix\n",
      "           |    predicted    |\n",
      "     real  |  False |   True |\n",
      "           |========|========|\n",
      "     False |  50041 |   7100 |\n",
      "     True  |   6288 |  27066 |\n",
      "\n",
      "saving model\n",
      "======\n",
      "\n",
      "========\n",
      "creating model for camisetas\n",
      "building labels...\n",
      "building dataset...\n",
      "training classifier...\n",
      "\n",
      "train accuracy:  97.70%\n",
      "train confusion matrix\n",
      "           |    predicted    |\n",
      "     real  |  False |   True |\n",
      "           |========|========|\n",
      "     False | 144857 |   2087 |\n",
      "     True  |   2767 |  61441 |\n",
      "\n",
      "test score:  97.51%\n",
      "test confusion_matrix\n",
      "           |    predicted    |\n",
      "     real  |  False |   True |\n",
      "           |========|========|\n",
      "     False |  62053 |    911 |\n",
      "     True  |   1344 |  26187 |\n",
      "\n",
      "saving model\n",
      "======\n",
      "\n",
      "========\n",
      "creating model for mulheres\n",
      "building labels...\n",
      "building dataset...\n",
      "training classifier...\n",
      "\n",
      "train accuracy:  90.84%\n",
      "train confusion matrix\n",
      "           |    predicted    |\n",
      "     real  |  False |   True |\n",
      "           |========|========|\n",
      "     False | 153210 |   5406 |\n",
      "     True  |  13938 |  38598 |\n",
      "\n",
      "test score:  90.04%\n",
      "test confusion_matrix\n",
      "           |    predicted    |\n",
      "     real  |  False |   True |\n",
      "           |========|========|\n",
      "     False |  65214 |   2548 |\n",
      "     True  |   6463 |  16270 |\n",
      "\n",
      "saving model\n",
      "======\n",
      "\n",
      "========\n",
      "creating model for roupas femininas\n",
      "building labels...\n",
      "building dataset...\n",
      "training classifier...\n",
      "\n",
      "train accuracy:  95.43%\n",
      "train confusion matrix\n",
      "           |    predicted    |\n",
      "     real  |  False |   True |\n",
      "           |========|========|\n",
      "     False | 158312 |   3226 |\n",
      "     True  |   6419 |  43195 |\n",
      "\n",
      "test score:  94.88%\n",
      "test confusion_matrix\n",
      "           |    predicted    |\n",
      "     real  |  False |   True |\n",
      "           |========|========|\n",
      "     False |  67648 |   1588 |\n",
      "     True  |   3046 |  18213 |\n",
      "\n",
      "saving model\n",
      "======\n",
      "\n",
      "========\n",
      "creating model for surf\n",
      "building labels...\n",
      "building dataset...\n",
      "training classifier...\n",
      "\n",
      "train accuracy:  95.94%\n",
      "train confusion matrix\n",
      "           |    predicted    |\n",
      "     real  |  False |   True |\n",
      "           |========|========|\n",
      "     False | 161636 |   5386 |\n",
      "     True  |   3189 |  40941 |\n",
      "\n",
      "test score:  95.42%\n",
      "test confusion_matrix\n",
      "           |    predicted    |\n",
      "     real  |  False |   True |\n",
      "           |========|========|\n",
      "     False |  69003 |   2538 |\n",
      "     True  |   1608 |  17346 |\n",
      "\n",
      "saving model\n",
      "======\n",
      "\n",
      "========\n",
      "creating model for calcados\n",
      "building labels...\n",
      "building dataset...\n",
      "training classifier...\n",
      "\n",
      "train accuracy:  99.51%\n",
      "train confusion matrix\n",
      "           |    predicted    |\n",
      "     real  |  False |   True |\n",
      "           |========|========|\n",
      "     False | 171123 |    790 |\n",
      "     True  |    237 |  39002 |\n",
      "\n",
      "test score:  99.46%\n",
      "test confusion_matrix\n",
      "           |    predicted    |\n",
      "     real  |  False |   True |\n",
      "           |========|========|\n",
      "     False |  73039 |    384 |\n",
      "     True  |    103 |  16969 |\n",
      "\n",
      "saving model\n",
      "======\n",
      "\n",
      "========\n",
      "creating model for manga curta\n",
      "building labels...\n",
      "building dataset...\n",
      "training classifier...\n",
      "\n",
      "train accuracy:  93.89%\n",
      "train confusion matrix\n",
      "           |    predicted    |\n",
      "     real  |  False |   True |\n",
      "           |========|========|\n",
      "     False | 164226 |   8075 |\n",
      "     True  |   4828 |  34023 |\n",
      "\n",
      "test score:  93.06%\n",
      "test confusion_matrix\n",
      "           |    predicted    |\n",
      "     real  |  False |   True |\n",
      "           |========|========|\n",
      "     False |  69868 |   3762 |\n",
      "     True  |   2514 |  14351 |\n",
      "\n",
      "saving model\n",
      "======\n",
      "\n",
      "========\n",
      "creating model for camiseta manga curta\n",
      "building labels...\n",
      "building dataset...\n",
      "training classifier...\n",
      "\n",
      "train accuracy:  94.34%\n",
      "train confusion matrix\n",
      "           |    predicted    |\n",
      "     real  |  False |   True |\n",
      "           |========|========|\n",
      "     False | 171694 |   6941 |\n",
      "     True  |   5001 |  27516 |\n",
      "\n",
      "test score:  93.24%\n",
      "test confusion_matrix\n",
      "           |    predicted    |\n",
      "     real  |  False |   True |\n",
      "           |========|========|\n",
      "     False |  72935 |   3476 |\n",
      "     True  |   2639 |  11445 |\n",
      "\n",
      "saving model\n",
      "======\n",
      "\n",
      "========\n",
      "creating model for camisetas manga curta\n",
      "building labels...\n",
      "building dataset...\n",
      "training classifier...\n",
      "\n",
      "train accuracy:  94.72%\n",
      "train confusion matrix\n",
      "           |    predicted    |\n",
      "     real  |  False |   True |\n",
      "           |========|========|\n",
      "     False | 173104 |   7195 |\n",
      "     True  |   3956 |  26897 |\n",
      "\n",
      "test score:  93.94%\n",
      "test confusion_matrix\n",
      "           |    predicted    |\n",
      "     real  |  False |   True |\n",
      "           |========|========|\n",
      "     False |  73765 |   3407 |\n",
      "     True  |   2080 |  11243 |\n",
      "\n",
      "saving model\n",
      "======\n",
      "\n",
      "========\n",
      "creating model for tenis\n",
      "building labels...\n",
      "building dataset...\n",
      "training classifier...\n",
      "\n",
      "train accuracy:  99.39%\n",
      "train confusion matrix\n",
      "           |    predicted    |\n",
      "     real  |  False |   True |\n",
      "           |========|========|\n",
      "     False | 181033 |    875 |\n",
      "     True  |    423 |  28821 |\n",
      "\n",
      "test score:  99.27%\n",
      "test confusion_matrix\n",
      "           |    predicted    |\n",
      "     real  |  False |   True |\n",
      "           |========|========|\n",
      "     False |  77413 |    442 |\n",
      "     True  |    215 |  12425 |\n",
      "\n",
      "saving model\n",
      "======\n",
      "\n",
      "========\n",
      "creating model for skate\n",
      "building labels...\n",
      "building dataset...\n",
      "training classifier...\n",
      "\n",
      "train accuracy:  96.75%\n",
      "train confusion matrix\n",
      "           |    predicted    |\n",
      "     real  |  False |   True |\n",
      "           |========|========|\n",
      "     False | 182046 |   2898 |\n",
      "     True  |   3973 |  22235 |\n",
      "\n",
      "test score:  96.54%\n",
      "test confusion_matrix\n",
      "           |    predicted    |\n",
      "     real  |  False |   True |\n",
      "           |========|========|\n",
      "     False |  77901 |   1350 |\n",
      "     True  |   1777 |   9467 |\n",
      "\n",
      "saving model\n",
      "======\n",
      "\n",
      "========\n",
      "creating model for calcados masculinos\n",
      "building labels...\n"
     ]
    },
    {
     "name": "stdout",
     "output_type": "stream",
     "text": [
      "building dataset...\n",
      "training classifier...\n",
      "\n",
      "train accuracy:  97.59%\n",
      "train confusion matrix\n",
      "           |    predicted    |\n",
      "     real  |  False |   True |\n",
      "           |========|========|\n",
      "     False | 181599 |   3793 |\n",
      "     True  |   1288 |  24472 |\n",
      "\n",
      "test score:  97.08%\n",
      "test confusion_matrix\n",
      "           |    predicted    |\n",
      "     real  |  False |   True |\n",
      "           |========|========|\n",
      "     False |  77406 |   1920 |\n",
      "     True  |    721 |  10448 |\n",
      "\n",
      "saving model\n",
      "======\n",
      "\n",
      "========\n",
      "creating model for acessorios\n",
      "building labels...\n",
      "building dataset...\n",
      "training classifier...\n",
      "\n",
      "train accuracy:  99.26%\n",
      "train confusion matrix\n",
      "           |    predicted    |\n",
      "     real  |  False |   True |\n",
      "           |========|========|\n",
      "     False | 184925 |    545 |\n",
      "     True  |   1012 |  24670 |\n",
      "\n",
      "test score:  99.20%\n",
      "test confusion_matrix\n",
      "           |    predicted    |\n",
      "     real  |  False |   True |\n",
      "           |========|========|\n",
      "     False |  79356 |    236 |\n",
      "     True  |    492 |  10411 |\n",
      "\n",
      "saving model\n",
      "======\n",
      "\n",
      "========\n",
      "creating model for esportes femininos\n",
      "building labels...\n",
      "building dataset...\n",
      "training classifier...\n",
      "\n",
      "train accuracy:  92.83%\n",
      "train confusion matrix\n",
      "           |    predicted    |\n",
      "     real  |  False |   True |\n",
      "           |========|========|\n",
      "     False | 183644 |   2998 |\n",
      "     True  |  12152 |  12358 |\n",
      "\n",
      "test score:  92.11%\n",
      "test confusion_matrix\n",
      "           |    predicted    |\n",
      "     real  |  False |   True |\n",
      "           |========|========|\n",
      "     False |  78403 |   1439 |\n",
      "     True  |   5703 |   4950 |\n",
      "\n",
      "saving model\n",
      "======\n",
      "\n",
      "========\n",
      "creating model for acessorios masculinos\n",
      "building labels...\n",
      "building dataset...\n",
      "training classifier...\n",
      "\n",
      "train accuracy:  99.06%\n",
      "train confusion matrix\n",
      "           |    predicted    |\n",
      "     real  |  False |   True |\n",
      "           |========|========|\n",
      "     False | 189487 |   1442 |\n",
      "     True  |    544 |  19679 |\n",
      "\n",
      "test score:  98.89%\n",
      "test confusion_matrix\n",
      "           |    predicted    |\n",
      "     real  |  False |   True |\n",
      "           |========|========|\n",
      "     False |  81185 |    723 |\n",
      "     True  |    278 |   8309 |\n",
      "\n",
      "saving model\n",
      "======\n",
      "\n"
     ]
    }
   ],
   "source": [
    "n_cat = 20\n",
    "\n",
    "for cat_name in top_cat_names[:n_cat]:\n",
    "    train_model(cat_name, classifier=LogisticRegression, classifier_params=lr_params)"
   ]
  },
  {
   "cell_type": "markdown",
   "metadata": {},
   "source": [
    "# Predicting Categories\n",
    "\n",
    "I have built a simple small pipeline to predict the categories (from the ones trained) a certain product belogns to. It is not really difficult to extend this for a list of products instead of only one."
   ]
  },
  {
   "cell_type": "code",
   "execution_count": 38,
   "metadata": {},
   "outputs": [],
   "source": [
    "def load_models():\n",
    "    return {name.split('.')[0]: load(f'models/{name}') for name in listdir('models')}\n",
    "\n",
    "def predict_product_categories(prod_features):\n",
    "    brand_binarizer = load('feature_extraction/brand_binarizer.joblib')\n",
    "    prod_type_binarizer = load('feature_extraction/prod_type_binarizer.joblib')\n",
    "    prod_name_vectorizer = load('feature_extraction/prod_name_vectorizer.joblib')\n",
    "    models = load_models()\n",
    "    \n",
    "    prod_name = prod_name_vectorizer.transform([prod_features['name']])\n",
    "\n",
    "    prod_brand = brand_binarizer.transform([[prod_features['brand']]])\n",
    "\n",
    "    prod_type = prod_type_binarizer.transform([[prod_features['type']]])\n",
    "\n",
    "    prod_price = [prod_features['price']]\n",
    "\n",
    "    features = [\n",
    "        prod_name,\n",
    "        prod_brand,\n",
    "        prod_type,\n",
    "        prod_price\n",
    "    ]\n",
    "\n",
    "    pred_x = hstack(features)\n",
    "\n",
    "    return {cat_name for cat_name, model in models.items() if model.predict(pred_x)[0]}"
   ]
  },
  {
   "cell_type": "code",
   "execution_count": 39,
   "metadata": {},
   "outputs": [],
   "source": [
    "# features of the product to be categorized\n",
    "\n",
    "prod_features ={\n",
    "    'name': 'Mochila Santino Preta',\n",
    "    'price': 1,\n",
    "    'brand': 'Santino',\n",
    "    'type': 'sportsacessories'\n",
    "}"
   ]
  },
  {
   "cell_type": "code",
   "execution_count": 40,
   "metadata": {},
   "outputs": [
    {
     "data": {
      "text/plain": [
       "{'acessorios', 'acessorios masculinos'}"
      ]
     },
     "execution_count": 40,
     "metadata": {},
     "output_type": "execute_result"
    }
   ],
   "source": [
    "predict_product_categories(prod_features)"
   ]
  }
 ],
 "metadata": {
  "kernelspec": {
   "display_name": "ml-bootcamp",
   "language": "python",
   "name": "ml-bootcamp"
  }
 },
 "nbformat": 4,
 "nbformat_minor": 2
}
